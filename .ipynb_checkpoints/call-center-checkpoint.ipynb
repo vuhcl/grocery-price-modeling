{
 "cells": [
  {
   "cell_type": "markdown",
   "metadata": {},
   "source": [
    "__Vu H. Chu-Le__"
   ]
  },
  {
   "cell_type": "markdown",
   "metadata": {},
   "source": [
    "___"
   ]
  },
  {
   "cell_type": "markdown",
   "metadata": {},
   "source": [
    "# Scenario"
   ]
  },
  {
   "cell_type": "markdown",
   "metadata": {},
   "source": [
    "We are advising a client on the number of call center agents they need to handle their customer\n",
    "support load. The provided data set shows the intervals between phone calls arriving during one day. Each value is a time in minutes indicating the amount of time that passed between receiving two consecutive phone calls.\n",
    "\n",
    "To do this task, we start by modeling the number of phone calls we expect to come into the call\n",
    "center during each hour of the day. "
   ]
  },
  {
   "cell_type": "code",
   "execution_count": 1,
   "metadata": {},
   "outputs": [],
   "source": [
    "import numpy as np\n",
    "import scipy as sp\n",
    "import scipy.stats as sts\n",
    "import matplotlib.pyplot as plt\n",
    "%matplotlib inline\n",
    "# Load the data set containing durations between calls arriving at the call\n",
    "# center during 1 day. All values are in minutes.\n",
    "waiting_times_day = np.loadtxt('call_center.txt')\n",
    "\n",
    "# Make 24 empty lists, one per hour.\n",
    "waiting_times_per_hour = [[] for _ in range(24)]\n",
    "\n",
    "# Split the data into 24 separate series, one for each hour of the day.\n",
    "current_time = 0\n",
    "for t in waiting_times_day:\n",
    "    current_hour = int(current_time // 60)\n",
    "    current_time += t\n",
    "    waiting_times_per_hour[current_hour].append(t)"
   ]
  },
  {
   "cell_type": "code",
   "execution_count": 2,
   "metadata": {},
   "outputs": [],
   "source": [
    "# Values of the parameter (λ) to evaluate\n",
    "# Because λ > 0, we remove the value of 0\n",
    "lambdas = np.linspace(0, 20, 501)[1:]\n",
    "\n",
    "def likelihood(lambda_, datum):\n",
    "    \"\"\"\n",
    "    Calculate the likelihood of the parameter given the data set.\n",
    "    We use exponential distribution since it is the probability distribution \n",
    "    of the time between events, which is between two consecutive phone calls\n",
    "    in our case. It supports non-negative continuous variable, which is also \n",
    "    appropriate here.\n",
    "    \n",
    "    Inputs:\n",
    "    \n",
    "        lambda_ (float): A parameter value to calculate the likelihood.\n",
    "        \n",
    "        datum (float/array of loat): A single datum or an array of data set.\n",
    "    \n",
    "    Returns: (float/array of float) The likelihood of the parameter given \n",
    "      the data.\n",
    "    \"\"\"\n",
    "    return sts.expon(scale=1/lambda_).pdf(datum)\n",
    "\n",
    "def prior(lambda_):\n",
    "    \"\"\"\n",
    "    Calculate the prior probability distribution.\n",
    "    \n",
    "    Inputs:\n",
    "    \n",
    "        lambda_ (array of float): The range of parameter values at which to \n",
    "          evaluate the probability distribution.\n",
    "          \n",
    "    Returns: (array of float) The prior probability distribution.\n",
    "    \"\"\"\n",
    "    return sts.gamma(1, scale=1/0.25).pdf(lambda_)\n",
    "\n",
    "def compute_posterior(parameter_values, prior, likelihood, data):\n",
    "    \"\"\"\n",
    "    Calculate the posterior probability distribution with given range of \n",
    "    parameter values, prior function, likelihood function, and the data set.\n",
    "    \n",
    "    Inputs:\n",
    "        \n",
    "        parameter_values (array of float): The list of parameter values at \n",
    "          which the probability distribution will be evaluated.\n",
    "          \n",
    "        prior (function): Function to calculate the prior probability\n",
    "          distribution.\n",
    "        \n",
    "        likelihood (function): Function to calculate the likelihood.\n",
    "        \n",
    "        data (array of float): The given data set.\n",
    "          \n",
    "    Returns: (array of float) The posterior probability distribution.\n",
    "    \"\"\"\n",
    "    log_prior = np.log(prior(parameter_values))\n",
    "    log_likelihood = np.array([\n",
    "        np.sum(np.log(likelihood(param, data)))\n",
    "        for param in parameter_values])\n",
    "    unnormalized_log_posterior = log_prior + log_likelihood\n",
    "    unnormalized_log_posterior -= max(unnormalized_log_posterior)\n",
    "    unnormalized_posterior = np.exp(unnormalized_log_posterior)\n",
    "    area = sp.integrate.trapz(unnormalized_posterior, parameter_values)\n",
    "    posterior = unnormalized_posterior / area\n",
    "    return posterior\n",
    "\n",
    "def compute_percentile(parameter_values, distribution_values, percentile):\n",
    "    '''\n",
    "    Compute the parameter value at a particular percentile of the given\n",
    "    probability distribution values.\n",
    "\n",
    "    Inputs:\n",
    "\n",
    "        parameter_values (array of float): The list of parameter values at \n",
    "          which the probability distribution has been evaluated.\n",
    "\n",
    "        distribution_values (array of float): The list of values of the \n",
    "          probability density function evaluated at the parameter values above.\n",
    "\n",
    "        percentile (float): The value between 0 and 1 of the percentile \n",
    "          to compute.\n",
    "\n",
    "    Returns: (float) The parameter value at the given percentile.\n",
    "    '''\n",
    "    cumulative_distribution = sp.integrate.cumtrapz(\n",
    "        distribution_values, parameter_values)\n",
    "    percentile_index = np.searchsorted(cumulative_distribution, percentile)\n",
    "    return parameter_values[percentile_index]"
   ]
  },
  {
   "cell_type": "code",
   "execution_count": 3,
   "metadata": {
    "scrolled": false
   },
   "outputs": [
    {
     "name": "stdout",
     "output_type": "stream",
     "text": [
      "Values for hour 0:00-1:00\n",
      "Posterior 98% interval: [0.04, 0.2] calls per minute\n",
      "Expected value: λ = 0.10259215928061097 calls per minute\n",
      "\n",
      "Values for hour 1:00-2:00\n",
      "Posterior 98% interval: [0.04, 0.16] calls per minute\n",
      "Expected value: λ = 0.08180692157264402 calls per minute\n",
      "\n",
      "Values for hour 2:00-3:00\n",
      "Posterior 98% interval: [0.04, 0.16] calls per minute\n",
      "Expected value: λ = 0.09546488432971513 calls per minute\n",
      "\n",
      "Values for hour 3:00-4:00\n",
      "Posterior 98% interval: [0.08, 0.44] calls per minute\n",
      "Expected value: λ = 0.24267223608771513 calls per minute\n",
      "\n",
      "Values for hour 4:00-5:00\n",
      "Posterior 98% interval: [0.24, 0.64] calls per minute\n",
      "Expected value: λ = 0.44233289646050655 calls per minute\n",
      "\n",
      "Values for hour 5:00-6:00\n",
      "Posterior 98% interval: [0.6, 1.2] calls per minute\n",
      "Expected value: λ = 0.9033121445299432 calls per minute\n",
      "\n",
      "Values for hour 6:00-7:00\n",
      "Posterior 98% interval: [1.2, 1.96] calls per minute\n",
      "Expected value: λ = 1.5911875564257962 calls per minute\n",
      "\n",
      "Values for hour 7:00-8:00\n",
      "Posterior 98% interval: [2.36, 3.4] calls per minute\n",
      "Expected value: λ = 2.8810069616056153 calls per minute\n",
      "\n",
      "Values for hour 8:00-9:00\n",
      "Posterior 98% interval: [3.64, 4.88] calls per minute\n",
      "Expected value: λ = 4.256924597345016 calls per minute\n",
      "\n",
      "Values for hour 9:00-10:00\n",
      "Posterior 98% interval: [5.0, 6.44] calls per minute\n",
      "Expected value: λ = 5.728695915357027 calls per minute\n",
      "\n",
      "Values for hour 10:00-11:00\n",
      "Posterior 98% interval: [7.4, 9.16] calls per minute\n",
      "Expected value: λ = 8.279476477207698 calls per minute\n",
      "\n",
      "Values for hour 11:00-12:00\n",
      "Posterior 98% interval: [14.16, 16.52] calls per minute\n",
      "Expected value: λ = 15.342752954309276 calls per minute\n",
      "\n",
      "Values for hour 12:00-13:00\n",
      "Posterior 98% interval: [13.120000000000001, 15.4] calls per minute\n",
      "Expected value: λ = 14.250688383069162 calls per minute\n",
      "\n",
      "Values for hour 13:00-14:00\n",
      "Posterior 98% interval: [5.6000000000000005, 7.12] calls per minute\n",
      "Expected value: λ = 6.349423180600141 calls per minute\n",
      "\n",
      "Values for hour 14:00-15:00\n",
      "Posterior 98% interval: [2.56, 3.64] calls per minute\n",
      "Expected value: λ = 3.094053744378928 calls per minute\n",
      "\n",
      "Values for hour 15:00-16:00\n",
      "Posterior 98% interval: [2.88, 4.0] calls per minute\n",
      "Expected value: λ = 3.4522059513043106 calls per minute\n",
      "\n",
      "Values for hour 16:00-17:00\n",
      "Posterior 98% interval: [3.7600000000000002, 5.0] calls per minute\n",
      "Expected value: λ = 4.3795329825283185 calls per minute\n",
      "\n",
      "Values for hour 17:00-18:00\n",
      "Posterior 98% interval: [6.2, 7.76] calls per minute\n",
      "Expected value: λ = 6.972251600671261 calls per minute\n",
      "\n",
      "Values for hour 18:00-19:00\n",
      "Posterior 98% interval: [7.92, 9.68] calls per minute\n",
      "Expected value: λ = 8.797216818562104 calls per minute\n",
      "\n",
      "Values for hour 19:00-20:00\n",
      "Posterior 98% interval: [5.88, 7.44] calls per minute\n",
      "Expected value: λ = 6.647526432206254 calls per minute\n",
      "\n",
      "Values for hour 20:00-21:00\n",
      "Posterior 98% interval: [1.84, 2.7600000000000002] calls per minute\n",
      "Expected value: λ = 2.2851132488879116 calls per minute\n",
      "\n",
      "Values for hour 21:00-22:00\n",
      "Posterior 98% interval: [0.56, 1.12] calls per minute\n",
      "Expected value: λ = 0.8305780503777535 calls per minute\n",
      "\n",
      "Values for hour 22:00-23:00\n",
      "Posterior 98% interval: [0.16, 0.52] calls per minute\n",
      "Expected value: λ = 0.34090909052727153 calls per minute\n",
      "\n",
      "Values for hour 23:00-24:00\n",
      "Posterior 98% interval: [0.12, 0.48] calls per minute\n",
      "Expected value: λ = 0.294336617668551 calls per minute\n",
      "\n"
     ]
    }
   ],
   "source": [
    "# Lists to store the posterior mean and the 98% posterior confidence \n",
    "# interval bar length for the plot\n",
    "posterior_means, errs = [], []\n",
    "\n",
    "# Calculate posterior expected value of λ and 98% posterior confidence\n",
    "# interval for each hour in the day\n",
    "hours = range(len(waiting_times_per_hour))\n",
    "for i in hours:\n",
    "    print(f'Values for hour {i}:00-{i+1}:00')\n",
    "    waiting_times_hour = waiting_times_per_hour[i]\n",
    "    \n",
    "    # Calculate the posterior distribution of λ\n",
    "    posterior = compute_posterior(lambdas, prior, likelihood, waiting_times_hour)\n",
    "\n",
    "    # Calculate the 98% posterior confidence interval over λ\n",
    "    percentiles = [compute_percentile(lambdas, posterior, p) for p in [0.01, 0.99]]\n",
    "    print('Posterior 98% interval:', percentiles, 'calls per minute')\n",
    "\n",
    "    # Get the posterior expected value of λ\n",
    "    lambda_ = sp.integrate.trapz(posterior * lambdas, lambdas)\n",
    "    print('Expected value: λ =', lambda_, 'calls per minute\\n')\n",
    "    \n",
    "    # Store the confidence interval bar length and the posterior mean\n",
    "    errs.append(abs(percentiles-lambda_))\n",
    "    posterior_means.append(lambda_)"
   ]
  },
  {
   "cell_type": "code",
   "execution_count": 4,
   "metadata": {},
   "outputs": [
    {
     "data": {
      "image/png": "[encoded data removed]",
      "text/plain": [
       "<Figure size 720x504 with 1 Axes>"
      ]
     },
     "metadata": {
      "needs_background": "light"
     },
     "output_type": "display_data"
    }
   ],
   "source": [
    "# Since errs has shape (24, 2), we need to transpose it to (2, 24)\n",
    "# for the function to plot\n",
    "plt.figure(figsize=(10, 7))\n",
    "plt.errorbar(hours, posterior_means, yerr=np.array(errs).transpose(), \n",
    "             fmt='o', elinewidth=1, capsize=2)\n",
    "plt.xlabel('Hour of the day')\n",
    "plt.ylabel('Call rate (calls per minute)')\n",
    "plt.title('Mean and 98% confidence interval over call rate')\n",
    "plt.show()"
   ]
  },
  {
   "cell_type": "markdown",
   "metadata": {},
   "source": [
    "From our analysis, we can see that the rate of calls per minute we expect to receive varies throughout the day and can be as low as roughly 0.1 calls per minute (around 6 calls an hour), and as high as over 15 calls per minute (over 900 calls an hour). During late evening and early morning, more specifically from 9pm (start of the 21st hour) to 6am (end of the 5th hour), the call rate is the lowest, with no more than one call per minute (60 calls an hour). We also have the highest confidence in the estimates for this time period, expecting an error of no more than 0.3 calls per minute. We expect the number of calls per minute to increase quickly from 6am, reaching over 8 calls per minute during 10-11am (nearly 500 calls per hour). There is a huge surge in calls from 11am-1pm, with our estimates of over 15 calls per minute (over 900 calls an hour) for 11am-12pm and over 14 calls per minute (over 840 calls an hour) for 12-1pm. Our estimates are less certain for these hours, but we can expect the number of calls to fall between 850 and 1000 calls from 11am-12pm and between 787 and 924 calls from 12-1pm 95% of the time. After that, the call rate drops significantly in the afternoon and evening, with the busiest hour being 6-7pm, with around 530 calls."
   ]
  },
  {
   "cell_type": "markdown",
   "metadata": {},
   "source": [
    "___"
   ]
  },
  {
   "cell_type": "markdown",
   "metadata": {},
   "source": [
    "__1. The purpose of the function is to multiply the prior and likelihood passed as input arguments and to return the posterior as output. Explain how the function achieves this purpose using logarithms.__\n",
    "\n",
    "According to the product rule of logarithms, $log_b(M \\cdot N)=log_b(M) + log_b(N)$. In line 6 of the code, we calculate the sum of the log prior and the log likelihood, which would be the equivalent to the log of the product of the prior and likelihood. After normalization, this log would give us the log posterior, of which we take the exponential to get the posterior. Throughout the function, the same rule is applied, as seen when calculating the likelihood and normalizing the likelihood.\n",
    "\n",
    "<br>\n",
    "\n",
    "__2. What is the purpose of np.sum() in line 4?__\n",
    "\n",
    "When calculating the likelihood of the parameter given a dataset, we multiply together the the likelihood of the parameter for each datum. However, since the function uses logarithms, we apply the product rule and take the sum of the log likelihoods instead. The result of this step (line 3-5) is an array with all the log likelihood for each of the values of the parameter ($\\lambda$).\n",
    "\n",
    "<br>\n",
    "\n",
    "__3. Explain why the maximum of the unnormalized log posterior is subtracted in line 7.__\n",
    "\n",
    "Applying the quotient rule of logarithms, $log_b(M) - log_b(N) = log_b(\\frac {M}{N})$. Because the posterior is a probability function, each values in the posterior is a probability and needs to be within the range [0,1]. The maximum of the unnormalized log posterior is subtracted to make sure that all of these posterior probabilities would be within this range, as the maximum posterior probability (before normalizing) would be 1 (dividing by itself) and all the other posterior values are non-negative and smaller than the maximum posterior probability.\n",
    "\n",
    "<br>\n",
    "\n",
    "__4. Why do we still have to divide by the area in line 10 even after having subtracted the maximum of the unnormalized log posterior in line 7?__\n",
    "\n",
    "Because the posterior is a probability function (and is continuous), it has to integrate to 1. The values we get in line 8 after getting the exponential of the unnormalized log posterior do not add up to 1, so we need to divide these values by the area so that they integrate to 1.\n",
    "\n",
    "<br>\n",
    "\n",
    "__5. Create an example where not taking logarithms would cause a problem. Create a prior, likelihood, and data set that fails to produce the correct posterior when we don’t take logs. Show all your code and visualize your results on one or more plots.__\n",
    "\n",
    "When we calculate the posterior and do not take logarithms, overflow or underflow may arise. Overflow occurs when a calculation produces a result that is greater than what the computer can represent. This would happen when we have a huge dataset, a big range of parameter values, or the data and/or parameter have large values. Reversely, underflow occurs when a calculation produces a result that is too close to zero for the computer to represent it, and would happen when the data or parameter have miniscule numbers. Overflow and underflow are common when a function includes an exponential term since it grows very quickly. The code cell below shows an example of overflow and underflow: $e^{800}$ is evaluated to infinity, and $e^{-800}$ is evaluated to 0."
   ]
  },
  {
   "cell_type": "code",
   "execution_count": 5,
   "metadata": {},
   "outputs": [
    {
     "name": "stdout",
     "output_type": "stream",
     "text": [
      "inf\n",
      "0.0\n"
     ]
    }
   ],
   "source": [
    "print(np.exp(800))\n",
    "print(np.exp(-800))"
   ]
  },
  {
   "cell_type": "markdown",
   "metadata": {},
   "source": [
    "An example problem that would fail to produce the correct posterior when we do not take logs is as follows:\n",
    "\n",
    "We signed up for a Zoology class and is having a class on heart rate of different animals. The professor wants us to model the number of heartbeats during an interval of 5 minutes we expect to hear from a group of animals of various unknown species. The professor provided us with a data set of the intervals between heartbeats, randomly switching between different species. The data set includes an undisclosed number of hours worth of data. Each value is a time in minute indicating the amount of time that passed between hearing two consecutive heartbeats. We would perform similar calculations as from previous sections for this problem."
   ]
  },
  {
   "cell_type": "code",
   "execution_count": 6,
   "metadata": {},
   "outputs": [
    {
     "data": {
      "image/png": "[encoded data removed]",
      "text/plain": [
       "<Figure size 576x432 with 1 Axes>"
      ]
     },
     "metadata": {
      "needs_background": "light"
     },
     "output_type": "display_data"
    }
   ],
   "source": [
    "# Create a fake dataset\n",
    "factor = 10**np.linspace(-3, 1, num=10000)\n",
    "np.random.shuffle(factor)\n",
    "data = np.concatenate([np.random.exponential(scale=1./200, \n",
    "                size=9000), np.random.exponential(scale=1./20, \n",
    "                size=1000)])*factor\n",
    "np.random.shuffle(data)\n",
    "# Separate data into different 5-minute intervals\n",
    "num_of_intervals = int((np.sum(data))//5)+1\n",
    "heartbeat_per_interval = [[] for _ in range(num_of_intervals)]\n",
    "\n",
    "# Separate the data into intervals of 5 minutes\n",
    "current_time = 0\n",
    "for t in data:\n",
    "    current_interval = int(current_time // 5)\n",
    "    current_time += t\n",
    "    heartbeat_per_interval[current_interval].append(t)\n",
    "    \n",
    "if round(sum(heartbeat_per_interval[-1])) != 5:\n",
    "    heartbeat_per_interval = heartbeat_per_interval[:-1]\n",
    "    num_of_intervals -= 1\n",
    "\n",
    "# Plot the data\n",
    "plt.figure(figsize=(8, 6))\n",
    "plt.bar(range(num_of_intervals), [len(x) for x in heartbeat_per_interval])\n",
    "plt.xlabel('Interval number')\n",
    "plt.ylabel('Number of heartbeats')\n",
    "plt.title('Number of heartbeats per 5-minute interval in the data set')\n",
    "plt.show()"
   ]
  },
  {
   "cell_type": "code",
   "execution_count": 7,
   "metadata": {},
   "outputs": [
    {
     "name": "stderr",
     "output_type": "stream",
     "text": [
      "/anaconda3/lib/python3.7/site-packages/numpy/core/fromnumeric.py:86: RuntimeWarning: overflow encountered in reduce\n",
      "  return ufunc.reduce(obj, axis, dtype, out, **passkwargs)\n"
     ]
    },
    {
     "name": "stdout",
     "output_type": "stream",
     "text": [
      "Expected value: λ = nan calls per minute\n",
      "\n"
     ]
    },
    {
     "name": "stderr",
     "output_type": "stream",
     "text": [
      "/anaconda3/lib/python3.7/site-packages/ipykernel_launcher.py:41: RuntimeWarning: invalid value encountered in true_divide\n"
     ]
    }
   ],
   "source": [
    "# Some whale species have heart rates as slow as 10  beats a minute, while\n",
    "# a hummingbird even when resting can reach a heart rate of 350 beats/min.\n",
    "# We will include any λ values between these two values.\n",
    "new_lambdas = np.linspace(10, 350, 500)\n",
    "\n",
    "def compute_posterior_without_log(parameter_values, prior, likelihood, data):\n",
    "    \"\"\"\n",
    "    Calculate the posterior probability distribution with given range of \n",
    "    parameter values, prior function, likelihood function, and the data set.\n",
    "    This function does not use logarithms.\n",
    "    \n",
    "    Inputs:\n",
    "        \n",
    "        parameter_values (array of float): The list of parameter values at \n",
    "          which the probability distribution will be evaluated.\n",
    "          \n",
    "        prior (function): Function to calculate the prior probability\n",
    "          distribution.\n",
    "        \n",
    "        likelihood (function): Function to calculate the likelihood.\n",
    "        \n",
    "        data (array of float): The given data set.\n",
    "          \n",
    "    Returns: (array of float) The posterior probability distribution.\n",
    "    \"\"\"\n",
    "    # Calculate the prior distribution and normalize it\n",
    "    unnormalized_prior = prior(parameter_values)\n",
    "    area = sp.integrate.trapz(unnormalized_prior, parameter_values)\n",
    "    normalized_prior = unnormalized_prior / area\n",
    "    \n",
    "    # Calculate the likelihood for each parameter values given the data\n",
    "    likelihood_param = []\n",
    "    for param in parameter_values:\n",
    "        # Take the product of the likelihoods for a parameter value\n",
    "        # given each datum\n",
    "        likelihood_param.append(np.prod(likelihood(param, data)))\n",
    "    # Multiply the prior with the likelihood and normalize to get the\n",
    "    # posterior\n",
    "    unnormalized_posterior = normalized_prior * likelihood_param\n",
    "    area = sp.integrate.trapz(unnormalized_posterior, parameter_values)\n",
    "    posterior = unnormalized_posterior / area\n",
    "    return posterior\n",
    "\n",
    "# Find the posterior using the new function without logarithms.\n",
    "# We use the same prior and likelihood function as above.\n",
    "posterior = compute_posterior_without_log(new_lambdas, prior, likelihood, \n",
    "                                          heartbeat_per_interval[0])\n",
    "lambda_ = sp.integrate.trapz(posterior * new_lambdas, new_lambdas)\n",
    "print('Expected value: λ =', lambda_, 'calls per minute\\n')"
   ]
  },
  {
   "cell_type": "code",
   "execution_count": 8,
   "metadata": {},
   "outputs": [
    {
     "name": "stdout",
     "output_type": "stream",
     "text": [
      "inf\n",
      "inf\n",
      "inf\n",
      "inf\n",
      "inf\n",
      "inf\n",
      "inf\n",
      "inf\n",
      "inf\n",
      "inf\n"
     ]
    }
   ],
   "source": [
    "# Print out some likelihood values\n",
    "for value in new_lambdas[:10]:\n",
    "    print(np.prod(likelihood(value, heartbeat_per_interval[0])))"
   ]
  },
  {
   "cell_type": "code",
   "execution_count": 9,
   "metadata": {
    "scrolled": false
   },
   "outputs": [
    {
     "name": "stdout",
     "output_type": "stream",
     "text": [
      "Interval number 0\n",
      "Expected value: λ = 118.43790388315304 beats per minute\n",
      "Posterior 98% interval: [107.43486973947896, 129.23847695390782] beats per minute \n",
      "\n",
      "Interval number 1\n",
      "Expected value: λ = 71.83000941866197 beats per minute\n",
      "Posterior 98% interval: [63.14629258517034, 80.18036072144288] beats per minute \n",
      "\n",
      "Interval number 2\n",
      "Expected value: λ = 54.54122233920743 beats per minute\n",
      "Posterior 98% interval: [46.7935871743487, 61.78356713426854] beats per minute \n",
      "\n",
      "Interval number 3\n",
      "Expected value: λ = 45.35667566603631 beats per minute\n",
      "Posterior 98% interval: [37.93587174348697, 52.24448897795591] beats per minute \n",
      "\n",
      "Interval number 4\n",
      "Expected value: λ = 115.99277288746285 beats per minute\n",
      "Posterior 98% interval: [105.39078156312625, 126.51302605210421] beats per minute \n",
      "\n",
      "Interval number 5\n",
      "Expected value: λ = 96.19284848390969 beats per minute\n",
      "Posterior 98% interval: [86.312625250501, 106.07214428857715] beats per minute \n",
      "\n",
      "Interval number 6\n",
      "Expected value: λ = 91.30632521233072 beats per minute\n",
      "Posterior 98% interval: [81.54308617234469, 100.62124248496994] beats per minute \n",
      "\n",
      "Interval number 7\n",
      "Expected value: λ = 64.49686963450435 beats per minute\n",
      "Posterior 98% interval: [56.33266533066132, 72.68537074148297] beats per minute \n",
      "\n",
      "Interval number 8\n",
      "Expected value: λ = 98.00095806382693 beats per minute\n",
      "Posterior 98% interval: [87.6753507014028, 108.11623246492987] beats per minute \n",
      "\n",
      "Interval number 9\n",
      "Expected value: λ = 70.16269361251702 beats per minute\n",
      "Posterior 98% interval: [61.78356713426854, 78.13627254509018] beats per minute \n",
      "\n",
      "Interval number 10\n",
      "Expected value: λ = 67.16609151943096 beats per minute\n",
      "Posterior 98% interval: [58.37675350701403, 76.09218436873748] beats per minute \n",
      "\n",
      "Interval number 11\n",
      "Expected value: λ = 116.07048637843837 beats per minute\n",
      "Posterior 98% interval: [105.39078156312625, 127.19438877755512] beats per minute \n",
      "\n",
      "Interval number 12\n",
      "Expected value: λ = 98.95223994271228 beats per minute\n",
      "Posterior 98% interval: [89.03807615230461, 108.79759519038076] beats per minute \n",
      "\n",
      "Interval number 13\n",
      "Expected value: λ = 63.55160035677372 beats per minute\n",
      "Posterior 98% interval: [54.96993987975952, 72.00400801603206] beats per minute \n",
      "\n",
      "Interval number 14\n",
      "Expected value: λ = 79.54963946414982 beats per minute\n",
      "Posterior 98% interval: [70.64128256513027, 88.35671342685372] beats per minute \n",
      "\n",
      "Interval number 15\n",
      "Expected value: λ = 105.45759842601367 beats per minute\n",
      "Posterior 98% interval: [94.48897795591182, 116.29258517034069] beats per minute \n",
      "\n",
      "Interval number 16\n",
      "Expected value: λ = 92.46289429613569 beats per minute\n",
      "Posterior 98% interval: [82.90581162324649, 101.98396793587175] beats per minute \n",
      "\n",
      "Interval number 17\n",
      "Expected value: λ = 133.11714493334287 beats per minute\n",
      "Posterior 98% interval: [121.062124248497, 144.90981963927857] beats per minute \n",
      "\n",
      "Interval number 18\n",
      "Expected value: λ = 98.01040927290742 beats per minute\n",
      "Posterior 98% interval: [87.6753507014028, 108.11623246492987] beats per minute \n",
      "\n",
      "Interval number 19\n",
      "Expected value: λ = 101.28916123688207 beats per minute\n",
      "Posterior 98% interval: [91.08216432865731, 111.52304609218437] beats per minute \n",
      "\n",
      "Interval number 20\n",
      "Expected value: λ = 61.86397368126971 beats per minute\n",
      "Posterior 98% interval: [53.607214428857716, 69.95991983967936] beats per minute \n",
      "\n"
     ]
    },
    {
     "data": {
      "image/png": "[encoded data removed]",
      "text/plain": [
       "<Figure size 720x504 with 1 Axes>"
      ]
     },
     "metadata": {
      "needs_background": "light"
     },
     "output_type": "display_data"
    }
   ],
   "source": [
    "# Find the posterior using logarithms.\n",
    "posterior_means, errs = [], []\n",
    "for i in range(num_of_intervals):\n",
    "    print(f'Interval number {i}')\n",
    "    posterior = compute_posterior(new_lambdas, prior, likelihood, \n",
    "                                  heartbeat_per_interval[i])\n",
    "    lambda_ = sp.integrate.trapz(posterior * new_lambdas, new_lambdas)\n",
    "    print('Expected value: λ =', lambda_, 'beats per minute')\n",
    "    posterior_means.append(lambda_)\n",
    "    percentiles = [compute_percentile(new_lambdas, posterior, p) for p in [0.01, 0.99]]\n",
    "    errs.append(abs(percentiles-lambda_))\n",
    "    print('Posterior 98% interval:', percentiles, 'beats per minute \\n')\n",
    "\n",
    "# Plot the results\n",
    "plt.figure(figsize=(10, 7))\n",
    "plt.errorbar(range(num_of_intervals), posterior_means, yerr=np.array(errs).transpose(), \n",
    "             fmt='o', elinewidth=1, capsize=2)\n",
    "plt.xlabel('Interval number')\n",
    "plt.ylabel('Heart rate (beats per minute)')\n",
    "plt.title('Mean and 98% confidence interval over heart rate')\n",
    "plt.show()"
   ]
  },
  {
   "cell_type": "code",
   "execution_count": 10,
   "metadata": {},
   "outputs": [
    {
     "data": {
      "image/png": "[encoded data removed]",
      "text/plain": [
       "<Figure size 576x720 with 2 Axes>"
      ]
     },
     "metadata": {
      "needs_background": "light"
     },
     "output_type": "display_data"
    }
   ],
   "source": [
    "# An array of likelihoods for one of the parameter values given each\n",
    "# datum in the data set.\n",
    "likelihood_array = likelihood(new_lambdas[0], heartbeat_per_interval[10])\n",
    "# Arrays to record the change in value as we consider more data points\n",
    "likelihood_product = []\n",
    "sum_log_likelihood = []\n",
    "product = 1\n",
    "sum_ = 0\n",
    "for i in range(7):\n",
    "    product *= likelihood_array[i]\n",
    "    likelihood_product.append(product)\n",
    "    sum_ += likelihood_array[i]\n",
    "    sum_log_likelihood.append(sum_)\n",
    "\n",
    "fig, ax = plt.subplots(2, 1, figsize=(8, 10), sharex=True)\n",
    "ax[0].plot(range(1, 8), sum_log_likelihood)\n",
    "ax[0].set_ylabel('Sum of log likelihood')\n",
    "ax[1].plot(range(1, 8), likelihood_product)\n",
    "ax[1].set_ylabel('Product of likelihood')\n",
    "ax[1].set_xlabel('Number of data')\n",
    "fig.tight_layout()\n",
    "plt.show()"
   ]
  },
  {
   "cell_type": "markdown",
   "metadata": {},
   "source": [
    "As seen above, in this case when we do not use logarithms, there are many data so the product of the likelihood for each parameter value gets too large and gives an overflow, hence failing to produce the correct posterior. Using logarithms works as expected. As seen in figure above, the product of the likelihood for each datum behave almost exponentially as the number of data increases, while in log space, the sum of log behaves linearly. Hence, when using logarithm the likelihood is well within the range of value that Python can handle."
   ]
  },
  {
   "cell_type": "markdown",
   "metadata": {},
   "source": [
    "___"
   ]
  }
 ],
 "metadata": {
  "kernelspec": {
   "display_name": "Python 3",
   "language": "python",
   "name": "python3"
  },
  "language_info": {
   "codemirror_mode": {
    "name": "ipython",
    "version": 3
   },
   "file_extension": ".py",
   "mimetype": "text/x-python",
   "name": "python",
   "nbconvert_exporter": "python",
   "pygments_lexer": "ipython3",
   "version": "3.7.3"
  }
 },
 "nbformat": 4,
 "nbformat_minor": 2
}
